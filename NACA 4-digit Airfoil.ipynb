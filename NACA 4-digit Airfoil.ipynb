{
 "cells": [
  {
   "cell_type": "code",
   "execution_count": 243,
   "metadata": {},
   "outputs": [],
   "source": [
    "import numpy as np\n",
    "import matplotlib.pyplot as plt"
   ]
  },
  {
   "cell_type": "code",
   "execution_count": 244,
   "metadata": {},
   "outputs": [],
   "source": [
    "## Enter required 4 digit airfoil here\n",
    "NACA_airfoil = \"4412\"  # 4-digit airfoil"
   ]
  },
  {
   "cell_type": "code",
   "execution_count": 245,
   "metadata": {},
   "outputs": [],
   "source": [
    "c = 1       # by default chord(c) is set to 1; so x = c, x/c = 1"
   ]
  },
  {
   "cell_type": "code",
   "execution_count": 246,
   "metadata": {},
   "outputs": [
    {
     "name": "stdout",
     "output_type": "stream",
     "text": [
      "M = 0.04,  P = 0.4,  T = 0.12\n"
     ]
    }
   ],
   "source": [
    "## 4-digit airfoil properties\n",
    "M = int(NACA_airfoil[0]) * (c/100)    # max camber\n",
    "P = int(NACA_airfoil[1]) * (c/10)     # max camber location from leading edge\n",
    "T = int(NACA_airfoil[2:4]) * (c/100)  # max thickness\n",
    "print(f\"M = {M},  P = {P},  T = {T}\")"
   ]
  },
  {
   "cell_type": "code",
   "execution_count": 247,
   "metadata": {},
   "outputs": [],
   "source": [
    "## constants\n",
    "a0 = 0.2969;\n",
    "a1 = -0.1260;\n",
    "a2 = -0.3516;\n",
    "a3 = 0.2843;\n",
    "#a4 = -0.1015;       # Open trailing edge\n",
    "a4 = -0.1036;     # Closed trailing edge"
   ]
  },
  {
   "cell_type": "code",
   "execution_count": 248,
   "metadata": {},
   "outputs": [],
   "source": [
    "## grid points for iteration\n",
    "points = 500\n",
    "x = np.linspace(0,c,points)"
   ]
  },
  {
   "cell_type": "code",
   "execution_count": 249,
   "metadata": {},
   "outputs": [],
   "source": [
    "## Camber and Gradient   # placeholders \n",
    "yc = np.zeros((points))\n",
    "dyc_dx = np.zeros((points))\n",
    "theta = np.zeros((points))"
   ]
  },
  {
   "cell_type": "code",
   "execution_count": 250,
   "metadata": {},
   "outputs": [],
   "source": [
    "for i in range(0,points):\n",
    "    if (x[i]>=0 and x[i]<P):\n",
    "        yc[i] = (M/(P**2))*((2*P*x[i])-(x[i]**2))\n",
    "        dyc_dx[i] = ((2*M)/(P**2))*(P-x[i])\n",
    "    elif (x[i]>=P and x[i]<=1):\n",
    "        yc[i] = (M/((1-P)**2))*(1-(2*P)+(2*P*x[i])-(x[i]**2))\n",
    "        dyc_dx[i] = ((2*M)/((1-P)**2))*(P-x[i])\n",
    "    theta[i] = np.arctan(dyc_dx[i])"
   ]
  },
  {
   "cell_type": "code",
   "execution_count": 251,
   "metadata": {},
   "outputs": [],
   "source": [
    "## Thickness Distribution\n",
    "yt = 5*T*((a0*np.sqrt(x)) + (a1*x) + (a2*(x**2)) + (a3*(x**3)) + (a4*(x**4)))"
   ]
  },
  {
   "cell_type": "code",
   "execution_count": 252,
   "metadata": {},
   "outputs": [],
   "source": [
    "## Upper surface points\n",
    "xu = x - (yt * np.sin(theta))\n",
    "yu = yc + (yt* np.cos(theta))"
   ]
  },
  {
   "cell_type": "code",
   "execution_count": 253,
   "metadata": {},
   "outputs": [],
   "source": [
    "## Lower surface points\n",
    "xl = x + (yt * np.sin(theta))\n",
    "yl = yc - (yt * np.cos(theta))"
   ]
  },
  {
   "cell_type": "code",
   "execution_count": 254,
   "metadata": {},
   "outputs": [
    {
     "data": {
      "image/png": "[encoded data removed]",
      "text/plain": [
       "<Figure size 432x288 with 1 Axes>"
      ]
     },
     "metadata": {
      "needs_background": "light"
     },
     "output_type": "display_data"
    }
   ],
   "source": [
    "## Plot the airfoil\n",
    "plt.plot(xu,yu, label = 'upper surface')\n",
    "plt.plot(xl,yl, label = 'lower surface')\n",
    "plt.grid()\n",
    "plt.axis('equal')\n",
    "plt.show()"
   ]
  },
  {
   "cell_type": "code",
   "execution_count": 255,
   "metadata": {},
   "outputs": [
    {
     "data": {
      "image/png": "[encoded data removed]",
      "text/plain": [
       "<Figure size 432x288 with 1 Axes>"
      ]
     },
     "metadata": {
      "needs_background": "light"
     },
     "output_type": "display_data"
    }
   ],
   "source": [
    "## plot the airfoil   #useful for exporting data in csv file\n",
    "x_cord = np.concatenate((xu,xl));  # array concatenation like python list\n",
    "y_cord = np.concatenate((yu,yl));\n",
    "plt.plot(x_cord, y_cord)\n",
    "plt.grid()\n",
    "plt.axis('equal')\n",
    "plt.show()"
   ]
  },
  {
   "cell_type": "code",
   "execution_count": 256,
   "metadata": {},
   "outputs": [],
   "source": [
    "## for exporting airfoil data into csv file\n",
    "f = x_cord.reshape(1000,1).ravel()   # ravel produces 1D array from 2D array\n",
    "f2 = y_cord.reshape(1000,1).ravel()\n",
    "f3 = np.vstack((f, f2)).T           # make 2d array from two 1D array\n",
    "data = np.asarray(f3)\n",
    "np.savetxt(f\"NACA{NACA_airfoil}_plotting_data.csv\", data, delimiter=\",\")"
   ]
  },
  {
   "cell_type": "code",
   "execution_count": 257,
   "metadata": {},
   "outputs": [],
   "source": [
    "## for abover formulas looks at https://en.wikipedia.org/wiki/NACA_airfoil"
   ]
  },
  {
   "cell_type": "code",
   "execution_count": null,
   "metadata": {},
   "outputs": [],
   "source": []
  }
 ],
 "metadata": {
  "kernelspec": {
   "display_name": "Python 3",
   "language": "python",
   "name": "python3"
  },
  "language_info": {
   "codemirror_mode": {
    "name": "ipython",
    "version": 3
   },
   "file_extension": ".py",
   "mimetype": "text/x-python",
   "name": "python",
   "nbconvert_exporter": "python",
   "pygments_lexer": "ipython3",
   "version": "3.7.0"
  }
 },
 "nbformat": 4,
 "nbformat_minor": 2
}
